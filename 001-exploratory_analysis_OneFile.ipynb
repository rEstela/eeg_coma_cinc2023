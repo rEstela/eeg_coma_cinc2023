{
 "cells": [
  {
   "cell_type": "markdown",
   "id": "64ef5ea7-a7b9-4c7b-9d67-cb55e849762c",
   "metadata": {},
   "source": [
    "## Descrição\n",
    "\n",
    "Nesse notebook é feito uma análise exploratória dos dados de 1 paciente do dataset I-CARE - CinC2023 Challenge - FASE 1\n",
    "\n",
    "DATASET: https://physionet.org/content/i-care/1.0/"
   ]
  },
  {
   "cell_type": "code",
   "execution_count": 1,
   "id": "b50e4cfb-37a2-44b6-b0dd-9fce01a61120",
   "metadata": {},
   "outputs": [
    {
     "name": "stderr",
     "output_type": "stream",
     "text": [
      "C:\\Users\\estel\\AppData\\Local\\Temp\\ipykernel_2776\\763687188.py:3: DeprecationWarning: \n",
      "Pyarrow will become a required dependency of pandas in the next major release of pandas (pandas 3.0),\n",
      "(to allow more performant data types, such as the Arrow string type, and better interoperability with other libraries)\n",
      "but was not found to be installed on your system.\n",
      "If this would cause problems for you,\n",
      "please provide us feedback at https://github.com/pandas-dev/pandas/issues/54466\n",
      "        \n",
      "  import pandas as pd\n"
     ]
    }
   ],
   "source": [
    "# Importar bibliotecas\n",
    "import os\n",
    "import pandas as pd\n",
    "import numpy as np\n",
    "import matplotlib.pyplot as plt\n",
    "import seaborn as sns"
   ]
  },
  {
   "cell_type": "code",
   "execution_count": 3,
   "id": "81c35cfa-d840-435a-a8af-7da134d55cd8",
   "metadata": {},
   "outputs": [],
   "source": [
    "# Caminho do arquivo\n",
    "patient_file = r'C:/Users/estel/Documents/Python_Codes/datasets/i-care-international-cardiac-arrest-research-consortium-database-1.0/training/ICARE_0284/ICARE_0284.txt'\n",
    "\n",
    "\n",
    "patient_metadata = []\n",
    "record_quality = []"
   ]
  },
  {
   "cell_type": "code",
   "execution_count": 4,
   "id": "57c12139-c854-4040-a4c1-829a5b504ff0",
   "metadata": {},
   "outputs": [
    {
     "name": "stdout",
     "output_type": "stream",
     "text": [
      "[{'Patient': 'ICARE_0284', 'Age': '53', 'Sex': 'Male', 'ROSC': nan, 'OHCA': 'True', 'VFib': 'True', 'TTM': '33', 'Outcome': 'Good', 'CPC': '1'}]\n"
     ]
    }
   ],
   "source": [
    "# Lendo arquivo .txt e transformando em dicionário\n",
    "patient_metadata.extend(\n",
    "    pd.read_csv(patient_file, delimiter=\": \", header=None, index_col=0, engine='python').T.to_dict(orient='records')\n",
    ")\n",
    "\n",
    "print(patient_metadata)"
   ]
  },
  {
   "cell_type": "code",
   "execution_count": 5,
   "id": "dab11b69-49d6-4fb8-9864-503f0141e556",
   "metadata": {},
   "outputs": [
    {
     "name": "stdout",
     "output_type": "stream",
     "text": [
      "[array([  nan,   nan,   nan,   nan, 1.   , 1.   , 1.   , 1.   , 0.983,\n",
      "       1.   , 1.   , 0.817, 0.933, 1.   , 1.   , 1.   , 1.   , 1.   ,\n",
      "       0.983, 0.95 , 1.   , 1.   , 1.   , 1.   , 1.   ,   nan,   nan,\n",
      "         nan, 1.   , 1.   , 1.   , 1.   , 1.   , 1.   , 1.   , 1.   ,\n",
      "       1.   , 1.   , 1.   , 1.   , 1.   , 1.   , 1.   , 1.   , 1.   ,\n",
      "       1.   , 1.   , 1.   , 1.   , 1.   , 1.   , 1.   , 1.   , 1.   ,\n",
      "       1.   , 1.   , 1.   , 1.   , 1.   , 1.   , 1.   , 1.   , 1.   ,\n",
      "       1.   , 1.   , 1.   , 1.   , 1.   , 1.   , 1.   , 1.   , 1.   ])]\n",
      "--> LEN:  1\n"
     ]
    }
   ],
   "source": [
    "# Lendo arquivo .tsv para qualidade das janelas\n",
    "record_quality.append(\n",
    "            np.array(pd.read_csv(patient_file[:-3] + \"tsv\", delimiter='\\t', engine='python').Quality)\n",
    "        )\n",
    "print(record_quality)\n",
    "print('--> LEN: ',len(record_quality))"
   ]
  },
  {
   "cell_type": "code",
   "execution_count": 6,
   "id": "6182b862-d4e8-46c7-a6be-bb764e906bf8",
   "metadata": {},
   "outputs": [
    {
     "data": {
      "text/html": [
       "<div>\n",
       "<style scoped>\n",
       "    .dataframe tbody tr th:only-of-type {\n",
       "        vertical-align: middle;\n",
       "    }\n",
       "\n",
       "    .dataframe tbody tr th {\n",
       "        vertical-align: top;\n",
       "    }\n",
       "\n",
       "    .dataframe thead th {\n",
       "        text-align: right;\n",
       "    }\n",
       "</style>\n",
       "<table border=\"1\" class=\"dataframe\">\n",
       "  <thead>\n",
       "    <tr style=\"text-align: right;\">\n",
       "      <th></th>\n",
       "      <th>h00</th>\n",
       "      <th>h01</th>\n",
       "      <th>h02</th>\n",
       "      <th>h03</th>\n",
       "      <th>h04</th>\n",
       "      <th>h05</th>\n",
       "      <th>h06</th>\n",
       "      <th>h07</th>\n",
       "      <th>h08</th>\n",
       "      <th>h09</th>\n",
       "      <th>...</th>\n",
       "      <th>h62</th>\n",
       "      <th>h63</th>\n",
       "      <th>h64</th>\n",
       "      <th>h65</th>\n",
       "      <th>h66</th>\n",
       "      <th>h67</th>\n",
       "      <th>h68</th>\n",
       "      <th>h69</th>\n",
       "      <th>h70</th>\n",
       "      <th>h71</th>\n",
       "    </tr>\n",
       "  </thead>\n",
       "  <tbody>\n",
       "    <tr>\n",
       "      <th>0</th>\n",
       "      <td>NaN</td>\n",
       "      <td>NaN</td>\n",
       "      <td>NaN</td>\n",
       "      <td>NaN</td>\n",
       "      <td>1.0</td>\n",
       "      <td>1.0</td>\n",
       "      <td>1.0</td>\n",
       "      <td>1.0</td>\n",
       "      <td>0.983</td>\n",
       "      <td>1.0</td>\n",
       "      <td>...</td>\n",
       "      <td>1.0</td>\n",
       "      <td>1.0</td>\n",
       "      <td>1.0</td>\n",
       "      <td>1.0</td>\n",
       "      <td>1.0</td>\n",
       "      <td>1.0</td>\n",
       "      <td>1.0</td>\n",
       "      <td>1.0</td>\n",
       "      <td>1.0</td>\n",
       "      <td>1.0</td>\n",
       "    </tr>\n",
       "  </tbody>\n",
       "</table>\n",
       "<p>1 rows × 72 columns</p>\n",
       "</div>"
      ],
      "text/plain": [
       "   h00  h01  h02  h03  h04  h05  h06  h07    h08  h09  ...  h62  h63  h64  \\\n",
       "0  NaN  NaN  NaN  NaN  1.0  1.0  1.0  1.0  0.983  1.0  ...  1.0  1.0  1.0   \n",
       "\n",
       "   h65  h66  h67  h68  h69  h70  h71  \n",
       "0  1.0  1.0  1.0  1.0  1.0  1.0  1.0  \n",
       "\n",
       "[1 rows x 72 columns]"
      ]
     },
     "execution_count": 6,
     "metadata": {},
     "output_type": "execute_result"
    }
   ],
   "source": [
    "# Qualidade do sinal para cada hora (1-72 horas de registro)\n",
    "df_quality = pd.DataFrame(np.vstack(record_quality), columns=[f\"h{i:02}\" for i in range(72)])\n",
    "df_quality"
   ]
  },
  {
   "cell_type": "code",
   "execution_count": 7,
   "id": "08065f56-c455-4283-9456-5096c5af0834",
   "metadata": {},
   "outputs": [
    {
     "name": "stdout",
     "output_type": "stream",
     "text": [
      "[65]\n",
      "[0.99486154]\n"
     ]
    }
   ],
   "source": [
    "valid_hours = np.sum(~np.isnan(np.vstack(record_quality)), axis=1) # NaN = não tem registro/sinal\n",
    "mean_quality = np.nanmean(np.vstack(record_quality), axis=1)\n",
    "\n",
    "print(valid_hours)\n",
    "print(mean_quality)"
   ]
  },
  {
   "cell_type": "code",
   "execution_count": 8,
   "id": "5bb21792-056c-4992-8e74-30871349b59d",
   "metadata": {},
   "outputs": [
    {
     "data": {
      "text/html": [
       "<div>\n",
       "<style scoped>\n",
       "    .dataframe tbody tr th:only-of-type {\n",
       "        vertical-align: middle;\n",
       "    }\n",
       "\n",
       "    .dataframe tbody tr th {\n",
       "        vertical-align: top;\n",
       "    }\n",
       "\n",
       "    .dataframe thead th {\n",
       "        text-align: right;\n",
       "    }\n",
       "</style>\n",
       "<table border=\"1\" class=\"dataframe\">\n",
       "  <thead>\n",
       "    <tr style=\"text-align: right;\">\n",
       "      <th></th>\n",
       "      <th>Patient</th>\n",
       "      <th>Age</th>\n",
       "      <th>Sex</th>\n",
       "      <th>ROSC</th>\n",
       "      <th>OHCA</th>\n",
       "      <th>VFib</th>\n",
       "      <th>TTM</th>\n",
       "      <th>Outcome</th>\n",
       "      <th>CPC</th>\n",
       "    </tr>\n",
       "  </thead>\n",
       "  <tbody>\n",
       "    <tr>\n",
       "      <th>0</th>\n",
       "      <td>ICARE_0284</td>\n",
       "      <td>53</td>\n",
       "      <td>Male</td>\n",
       "      <td>NaN</td>\n",
       "      <td>True</td>\n",
       "      <td>True</td>\n",
       "      <td>33</td>\n",
       "      <td>Good</td>\n",
       "      <td>1</td>\n",
       "    </tr>\n",
       "  </tbody>\n",
       "</table>\n",
       "</div>"
      ],
      "text/plain": [
       "      Patient Age   Sex  ROSC  OHCA  VFib TTM Outcome CPC\n",
       "0  ICARE_0284  53  Male   NaN  True  True  33    Good   1"
      ]
     },
     "execution_count": 8,
     "metadata": {},
     "output_type": "execute_result"
    }
   ],
   "source": [
    "df_patient = pd.DataFrame(patient_metadata)\n",
    "df_patient"
   ]
  },
  {
   "cell_type": "code",
   "execution_count": 9,
   "id": "c5e65c82-ba8a-477f-8b79-8d532f3aa87c",
   "metadata": {},
   "outputs": [
    {
     "data": {
      "text/html": [
       "<div>\n",
       "<style scoped>\n",
       "    .dataframe tbody tr th:only-of-type {\n",
       "        vertical-align: middle;\n",
       "    }\n",
       "\n",
       "    .dataframe tbody tr th {\n",
       "        vertical-align: top;\n",
       "    }\n",
       "\n",
       "    .dataframe thead th {\n",
       "        text-align: right;\n",
       "    }\n",
       "</style>\n",
       "<table border=\"1\" class=\"dataframe\">\n",
       "  <thead>\n",
       "    <tr style=\"text-align: right;\">\n",
       "      <th></th>\n",
       "      <th>Patient</th>\n",
       "      <th>Age</th>\n",
       "      <th>Sex</th>\n",
       "      <th>ROSC</th>\n",
       "      <th>OHCA</th>\n",
       "      <th>VFib</th>\n",
       "      <th>TTM</th>\n",
       "      <th>Outcome</th>\n",
       "      <th>CPC</th>\n",
       "      <th>valid_hours</th>\n",
       "      <th>mean_quality</th>\n",
       "    </tr>\n",
       "  </thead>\n",
       "  <tbody>\n",
       "    <tr>\n",
       "      <th>0</th>\n",
       "      <td>ICARE_0284</td>\n",
       "      <td>53</td>\n",
       "      <td>Male</td>\n",
       "      <td>NaN</td>\n",
       "      <td>True</td>\n",
       "      <td>True</td>\n",
       "      <td>33</td>\n",
       "      <td>Good</td>\n",
       "      <td>1</td>\n",
       "      <td>65</td>\n",
       "      <td>0.994862</td>\n",
       "    </tr>\n",
       "  </tbody>\n",
       "</table>\n",
       "</div>"
      ],
      "text/plain": [
       "      Patient Age   Sex  ROSC  OHCA  VFib TTM Outcome CPC  valid_hours  \\\n",
       "0  ICARE_0284  53  Male   NaN  True  True  33    Good   1           65   \n",
       "\n",
       "   mean_quality  \n",
       "0      0.994862  "
      ]
     },
     "execution_count": 9,
     "metadata": {},
     "output_type": "execute_result"
    }
   ],
   "source": [
    "df_patient['valid_hours'] = valid_hours\n",
    "df_patient['mean_quality'] = mean_quality\n",
    "\n",
    "df_patient"
   ]
  },
  {
   "cell_type": "code",
   "execution_count": 10,
   "id": "9be1ab2d-7acd-4495-b398-ee6ce5998429",
   "metadata": {},
   "outputs": [
    {
     "name": "stderr",
     "output_type": "stream",
     "text": [
      "C:\\Users\\estel\\AppData\\Local\\Temp\\ipykernel_2776\\35400838.py:11: FutureWarning: A value is trying to be set on a copy of a DataFrame or Series through chained assignment using an inplace method.\n",
      "The behavior will change in pandas 3.0. This inplace method will never work because the intermediate object on which we are setting values always behaves as a copy.\n",
      "\n",
      "For example, when doing 'df[col].method(value, inplace=True)', try using 'df.method({col: value}, inplace=True)' or df[col] = df[col].method(value) instead, to perform the operation inplace on the original object.\n",
      "\n",
      "\n",
      "  df_patient[\"Sex\"].fillna(\"Other\", inplace=True)\n"
     ]
    }
   ],
   "source": [
    "df_patient[\"Age\"] = df_patient[\"Age\"].astype(float)\n",
    "df_patient[\"ROSC\"] = df_patient[\"ROSC\"].astype(float)\n",
    "df_patient[\"OHCA\"] = df_patient[\"OHCA\"].astype(bool)\n",
    "df_patient[\"TTM\"] = df_patient[\"TTM\"].astype(float)\n",
    "df_patient['Poor_out'] = df_patient[\"Outcome\"] == 'Poor'\n",
    "df_patient['male'] = df_patient[\"Sex\"] == 'Male'\n",
    "df_patient['female'] = df_patient[\"Sex\"] == 'Female'\n",
    "df_patient[\"VFib\"] = df_patient[\"VFib\"].astype(bool)\n",
    "df_patient['pindex'] = df_patient[\"Patient\"].str.replace(\"ICARE_\", \"\")\n",
    "df_patient['CPC'] = df_patient['CPC'].astype(int)\n",
    "df_patient[\"Sex\"].fillna(\"Other\", inplace=True)\n",
    "df_patient[\"Sex\"] = df_patient[\"Sex\"].astype(str)"
   ]
  },
  {
   "cell_type": "code",
   "execution_count": 11,
   "id": "b2413ea3-3584-4631-8015-4e69d03e2772",
   "metadata": {},
   "outputs": [
    {
     "data": {
      "text/html": [
       "<div>\n",
       "<style scoped>\n",
       "    .dataframe tbody tr th:only-of-type {\n",
       "        vertical-align: middle;\n",
       "    }\n",
       "\n",
       "    .dataframe tbody tr th {\n",
       "        vertical-align: top;\n",
       "    }\n",
       "\n",
       "    .dataframe thead th {\n",
       "        text-align: right;\n",
       "    }\n",
       "</style>\n",
       "<table border=\"1\" class=\"dataframe\">\n",
       "  <thead>\n",
       "    <tr style=\"text-align: right;\">\n",
       "      <th></th>\n",
       "      <th>Patient</th>\n",
       "      <th>Age</th>\n",
       "      <th>Sex</th>\n",
       "      <th>ROSC</th>\n",
       "      <th>OHCA</th>\n",
       "      <th>VFib</th>\n",
       "      <th>TTM</th>\n",
       "      <th>Outcome</th>\n",
       "      <th>CPC</th>\n",
       "      <th>valid_hours</th>\n",
       "      <th>mean_quality</th>\n",
       "      <th>Poor_out</th>\n",
       "      <th>male</th>\n",
       "      <th>female</th>\n",
       "      <th>pindex</th>\n",
       "    </tr>\n",
       "  </thead>\n",
       "  <tbody>\n",
       "    <tr>\n",
       "      <th>0</th>\n",
       "      <td>ICARE_0284</td>\n",
       "      <td>53.0</td>\n",
       "      <td>Male</td>\n",
       "      <td>NaN</td>\n",
       "      <td>True</td>\n",
       "      <td>True</td>\n",
       "      <td>33.0</td>\n",
       "      <td>Good</td>\n",
       "      <td>1</td>\n",
       "      <td>65</td>\n",
       "      <td>0.994862</td>\n",
       "      <td>False</td>\n",
       "      <td>True</td>\n",
       "      <td>False</td>\n",
       "      <td>0284</td>\n",
       "    </tr>\n",
       "  </tbody>\n",
       "</table>\n",
       "</div>"
      ],
      "text/plain": [
       "      Patient   Age   Sex  ROSC  OHCA  VFib   TTM Outcome  CPC  valid_hours  \\\n",
       "0  ICARE_0284  53.0  Male   NaN  True  True  33.0    Good    1           65   \n",
       "\n",
       "   mean_quality  Poor_out  male  female pindex  \n",
       "0      0.994862     False  True   False   0284  "
      ]
     },
     "execution_count": 11,
     "metadata": {},
     "output_type": "execute_result"
    }
   ],
   "source": [
    "df_patient"
   ]
  },
  {
   "cell_type": "code",
   "execution_count": 12,
   "id": "06de3475-49c7-49e7-b66a-b6f8926cb391",
   "metadata": {},
   "outputs": [
    {
     "data": {
      "text/html": [
       "<div>\n",
       "<style scoped>\n",
       "    .dataframe tbody tr th:only-of-type {\n",
       "        vertical-align: middle;\n",
       "    }\n",
       "\n",
       "    .dataframe tbody tr th {\n",
       "        vertical-align: top;\n",
       "    }\n",
       "\n",
       "    .dataframe thead th {\n",
       "        text-align: right;\n",
       "    }\n",
       "</style>\n",
       "<table border=\"1\" class=\"dataframe\">\n",
       "  <thead>\n",
       "    <tr style=\"text-align: right;\">\n",
       "      <th></th>\n",
       "      <th>Patient</th>\n",
       "      <th>Age</th>\n",
       "      <th>Sex</th>\n",
       "      <th>ROSC</th>\n",
       "      <th>OHCA</th>\n",
       "      <th>VFib</th>\n",
       "      <th>TTM</th>\n",
       "      <th>Outcome</th>\n",
       "      <th>CPC</th>\n",
       "      <th>valid_hours</th>\n",
       "      <th>...</th>\n",
       "      <th>h62</th>\n",
       "      <th>h63</th>\n",
       "      <th>h64</th>\n",
       "      <th>h65</th>\n",
       "      <th>h66</th>\n",
       "      <th>h67</th>\n",
       "      <th>h68</th>\n",
       "      <th>h69</th>\n",
       "      <th>h70</th>\n",
       "      <th>h71</th>\n",
       "    </tr>\n",
       "  </thead>\n",
       "  <tbody>\n",
       "    <tr>\n",
       "      <th>0</th>\n",
       "      <td>ICARE_0284</td>\n",
       "      <td>53.0</td>\n",
       "      <td>Male</td>\n",
       "      <td>NaN</td>\n",
       "      <td>True</td>\n",
       "      <td>True</td>\n",
       "      <td>33.0</td>\n",
       "      <td>Good</td>\n",
       "      <td>1</td>\n",
       "      <td>65</td>\n",
       "      <td>...</td>\n",
       "      <td>1.0</td>\n",
       "      <td>1.0</td>\n",
       "      <td>1.0</td>\n",
       "      <td>1.0</td>\n",
       "      <td>1.0</td>\n",
       "      <td>1.0</td>\n",
       "      <td>1.0</td>\n",
       "      <td>1.0</td>\n",
       "      <td>1.0</td>\n",
       "      <td>1.0</td>\n",
       "    </tr>\n",
       "  </tbody>\n",
       "</table>\n",
       "<p>1 rows × 87 columns</p>\n",
       "</div>"
      ],
      "text/plain": [
       "      Patient   Age   Sex  ROSC  OHCA  VFib   TTM Outcome  CPC  valid_hours  \\\n",
       "0  ICARE_0284  53.0  Male   NaN  True  True  33.0    Good    1           65   \n",
       "\n",
       "   ...  h62  h63  h64  h65  h66  h67  h68  h69  h70  h71  \n",
       "0  ...  1.0  1.0  1.0  1.0  1.0  1.0  1.0  1.0  1.0  1.0  \n",
       "\n",
       "[1 rows x 87 columns]"
      ]
     },
     "execution_count": 12,
     "metadata": {},
     "output_type": "execute_result"
    }
   ],
   "source": [
    "df = pd.concat([df_patient, df_quality], axis=1)\n",
    "df"
   ]
  },
  {
   "cell_type": "code",
   "execution_count": 13,
   "id": "e7f314dd-4268-495b-b138-5a22a4f6b0e3",
   "metadata": {},
   "outputs": [],
   "source": [
    " #plt.imsave(\"valid_data.png\", np.isnan(df_quality), cmap='gray')"
   ]
  },
  {
   "cell_type": "code",
   "execution_count": 14,
   "id": "8310356d-1aa2-4294-aad3-4df6150fbb0b",
   "metadata": {},
   "outputs": [],
   "source": [
    "#df_patient.describe(include='all', percentiles=[])"
   ]
  },
  {
   "cell_type": "code",
   "execution_count": null,
   "id": "298c79ce-6817-424e-be75-40f6da94e078",
   "metadata": {},
   "outputs": [],
   "source": []
  }
 ],
 "metadata": {
  "kernelspec": {
   "display_name": "Python 3 (ipykernel)",
   "language": "python",
   "name": "python3"
  },
  "language_info": {
   "codemirror_mode": {
    "name": "ipython",
    "version": 3
   },
   "file_extension": ".py",
   "mimetype": "text/x-python",
   "name": "python",
   "nbconvert_exporter": "python",
   "pygments_lexer": "ipython3",
   "version": "3.10.13"
  }
 },
 "nbformat": 4,
 "nbformat_minor": 5
}
